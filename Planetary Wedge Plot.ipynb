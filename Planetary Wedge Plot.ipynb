{
 "cells": [
  {
   "cell_type": "code",
   "execution_count": 1,
   "source": [
    "# Set up packages\n",
    "!pip3 install astropy numpy matplotlib aplpy\n",
    "%matplotlib inline\n",
    "import os\n",
    "import numpy as np\n",
    "import matplotlib.pyplot as plt\n",
    "import pandas as pd"
   ],
   "outputs": [
    {
     "output_type": "stream",
     "name": "stdout",
     "text": [
      "Requirement already satisfied: astropy in /Users/karleetaylor/opt/anaconda3/lib/python3.8/site-packages (4.0.1.post1)\n",
      "Requirement already satisfied: numpy in /Users/karleetaylor/opt/anaconda3/lib/python3.8/site-packages (1.18.5)\n",
      "Requirement already satisfied: matplotlib in /Users/karleetaylor/opt/anaconda3/lib/python3.8/site-packages (3.2.2)\n",
      "Requirement already satisfied: aplpy in /Users/karleetaylor/opt/anaconda3/lib/python3.8/site-packages (2.0.3)\n",
      "Requirement already satisfied: kiwisolver>=1.0.1 in /Users/karleetaylor/opt/anaconda3/lib/python3.8/site-packages (from matplotlib) (1.2.0)\n",
      "Requirement already satisfied: python-dateutil>=2.1 in /Users/karleetaylor/opt/anaconda3/lib/python3.8/site-packages (from matplotlib) (2.8.1)\n",
      "Requirement already satisfied: cycler>=0.10 in /Users/karleetaylor/opt/anaconda3/lib/python3.8/site-packages (from matplotlib) (0.10.0)\n",
      "Requirement already satisfied: pyparsing!=2.0.4,!=2.1.2,!=2.1.6,>=2.0.1 in /Users/karleetaylor/opt/anaconda3/lib/python3.8/site-packages (from matplotlib) (2.4.7)\n",
      "Requirement already satisfied: pillow>=4.0 in /Users/karleetaylor/opt/anaconda3/lib/python3.8/site-packages (from aplpy) (7.2.0)\n",
      "Requirement already satisfied: pyavm>=0.9.4 in /Users/karleetaylor/opt/anaconda3/lib/python3.8/site-packages (from aplpy) (0.9.5)\n",
      "Requirement already satisfied: reproject>=0.4 in /Users/karleetaylor/opt/anaconda3/lib/python3.8/site-packages (from aplpy) (0.7.1)\n",
      "Requirement already satisfied: shapely>=1.6 in /Users/karleetaylor/opt/anaconda3/lib/python3.8/site-packages (from aplpy) (1.7.1)\n",
      "Requirement already satisfied: pyregion>=2.0 in /Users/karleetaylor/opt/anaconda3/lib/python3.8/site-packages (from aplpy) (2.1.1)\n",
      "Requirement already satisfied: scikit-image>=0.14 in /Users/karleetaylor/opt/anaconda3/lib/python3.8/site-packages (from aplpy) (0.16.2)\n",
      "Requirement already satisfied: six>=1.5 in /Users/karleetaylor/opt/anaconda3/lib/python3.8/site-packages (from python-dateutil>=2.1->matplotlib) (1.15.0)\n",
      "Requirement already satisfied: astropy-healpix>=0.2 in /Users/karleetaylor/opt/anaconda3/lib/python3.8/site-packages (from reproject>=0.4->aplpy) (0.6)\n",
      "Requirement already satisfied: scipy>=1.1 in /Users/karleetaylor/opt/anaconda3/lib/python3.8/site-packages (from reproject>=0.4->aplpy) (1.5.0)\n",
      "Requirement already satisfied: Cython in /Users/karleetaylor/opt/anaconda3/lib/python3.8/site-packages (from pyregion>=2.0->aplpy) (0.29.21)\n",
      "Requirement already satisfied: PyWavelets>=0.4.0 in /Users/karleetaylor/opt/anaconda3/lib/python3.8/site-packages (from scikit-image>=0.14->aplpy) (1.1.1)\n",
      "Requirement already satisfied: networkx>=2.0 in /Users/karleetaylor/opt/anaconda3/lib/python3.8/site-packages (from scikit-image>=0.14->aplpy) (2.4)\n",
      "Requirement already satisfied: imageio>=2.3.0 in /Users/karleetaylor/opt/anaconda3/lib/python3.8/site-packages (from scikit-image>=0.14->aplpy) (2.9.0)\n",
      "Requirement already satisfied: decorator>=4.3.0 in /Users/karleetaylor/opt/anaconda3/lib/python3.8/site-packages (from networkx>=2.0->scikit-image>=0.14->aplpy) (4.4.2)\n"
     ]
    }
   ],
   "metadata": {}
  },
  {
   "cell_type": "code",
   "execution_count": 34,
   "source": [
    "# Reading in a table-formatted file:\n",
    "#depth=np.genfromtxt('/Users/karleetaylor/desktop/T1M10Rb1.txt',usecols=0)\n",
    "# drop first row (headings)\n",
    "#depth = np.delete(depth,0,0)\n",
    "\n",
    "df = np.loadtxt('/Users/karleetaylor/desktop/T1M10Rb1.txt',delimiter=\" \", skiprows=1)\n",
    "depth=df[:,0]\n",
    "phase=df[:,5]\n",
    "T=df[:,6]\n",
    "P=df[:,7]"
   ],
   "outputs": [],
   "metadata": {}
  },
  {
   "cell_type": "code",
   "execution_count": 29,
   "source": [
    "# Graph Phase vs Depth\n",
    "fig, ax = plt.subplots(figsize=(15, 11))\n",
    "ax.set_xlabel('Depth (m)', size=25)\n",
    "ax.set_ylabel('Phase', size=25)\n",
    "ax.set_title('Phase Profile', size=30)\n",
    "ax.tick_params(axis='both', labelsize=25)\n",
    "ax.tick_params(direction='in', length=6, width=2, colors='black')\n",
    "ax.plot(depth, phase, linewidth=2, color='blue')"
   ],
   "outputs": [
    {
     "output_type": "execute_result",
     "data": {
      "text/plain": [
       "[<matplotlib.lines.Line2D at 0x117abef40>]"
      ]
     },
     "metadata": {},
     "execution_count": 29
    },
    {
     "output_type": "display_data",
     "data": {
      "image/png": "[encoded data removed]",
      "text/plain": [
       "<Figure size 1080x792 with 1 Axes>"
      ]
     },
     "metadata": {
      "needs_background": "light"
     }
    }
   ],
   "metadata": {}
  },
  {
   "cell_type": "code",
   "execution_count": 30,
   "source": [
    "# Find inflection points of phase graph --- INCLUDE IN OUTPUT FILE\n",
    "from numpy import diff\n",
    "\n",
    "# Find derivatives of graph\n",
    "x = depth\n",
    "y = phase\n",
    "dydx = diff(y)/diff(x)\n",
    "\n",
    "# Find index of non-zero points\n",
    "inflection_pts = np.where(dydx != 0) \n",
    "\n",
    "# Find x value (depth) that corresponds to index\n",
    "phase_change = []\n",
    "for i in inflection_pts:\n",
    "    inflection_depth = depth[i]\n",
    "    phase_change.append(inflection_depth)  \n",
    "    \n",
    "phase_change = np.append(phase_change, depth[0]) # add top and bottom of hydrosphere\n",
    "phase_change = np.append(phase_change, depth[99])\n",
    "phase_change = np.sort(phase_change) # list in ascending order"
   ],
   "outputs": [],
   "metadata": {}
  },
  {
   "cell_type": "code",
   "execution_count": 36,
   "source": [
    "# Create dictionary with radius (value) and phase name (key)\n",
    "phase_names_dict={'Water':0,'Ice Ih':1,'Ice II':2, 'Ice III':3,'Ice IV':4,'Ice V':5,'Ice VI':6,'Ice VII':7}\n",
    "key_list = list(phase_names_dict.keys())\n",
    "val_list = list(phase_names_dict.values())\n",
    "\n",
    "data = {}\n",
    "keys = [] # keys are phase number, then phase name\n",
    "values = phase_change.tolist() # value is radius/depth\n",
    "\n",
    "phase_numbers=[]\n",
    "for i in range(len(phase_change)):\n",
    "    index = np.where(depth == phase_change[i]) # get index of this depth\n",
    "    phase_number = phase[index] # get phase of this depth\n",
    "    phase_numbers.append(phase_number) # create list of keys with phase #\n",
    "    \n",
    "for i in range(len(phase_change)):\n",
    "    position = val_list.index(phase_numbers[i])\n",
    "    phase_name=key_list[position] # call key from phase_names_dict based on value (phase number)\n",
    "    keys.append(phase_name)\n",
    "    \n",
    "for i in range(len(keys)):\n",
    "    data[keys[i]] = values[i]\n",
    "print(data)\n",
    "\n",
    "phase_names=list(data.keys())"
   ],
   "outputs": [
    {
     "output_type": "stream",
     "name": "stdout",
     "text": [
      "{'Ice Ih': 19441.848460474663, 'Water': 126372.01499308531, 'Ice VI': 320790.4995978319, 'Ice VII': 481185.7493967479}\n"
     ]
    }
   ],
   "metadata": {}
  },
  {
   "cell_type": "code",
   "execution_count": 37,
   "source": [
    "# GRAPH PLANETARY WEDGE (Bokeh)\n",
    "\n",
    "# importing the modules\n",
    "from bokeh.plotting import figure, output_file, show\n",
    "from bokeh.io import output_file, show\n",
    "from bokeh.palettes import Category20c\n",
    "from bokeh.transform import cumsum\n",
    "from bokeh.models import LabelSet, ColumnDataSource\n",
    "import pandas as pd\n",
    "\n",
    "# Creating Graph\n",
    "graph = figure(title = \"Planetary Wedge Graph\")\n",
    "\n",
    "# Starting point for each wedge\n",
    "x = [0,0,0,0,0]\n",
    "y = [0,0,0,0,0]\n",
    "  \n",
    "# THICKNESS OF LAYERS\n",
    "\n",
    "r_b=0.6*6.36e+06 #radius of core\n",
    "\n",
    "# Radius of each wedge (thickness of layers)\n",
    "radius=[]\n",
    "for i in range(0,5):\n",
    "    radius_i = (phase_change[0]-phase_change[i]+r_b)/1000000\n",
    "    radius.append(radius_i)\n",
    "  \n",
    "# start angle of the wedge\n",
    "start_angle = [1.25,1.25,1.25,1.25,1.25]\n",
    "  \n",
    "# end angle of the wedge\n",
    "end_angle = [1.85,1.85,1.85,1.85,1.85]\n",
    "        \n",
    "# name of the y-axis \n",
    "graph.yaxis.axis_label = \"Depth (1000 km)\"\n",
    "\n",
    "# color value of the wedges\n",
    "import matplotlib.colors as mcolors\n",
    "color = [\"aqua\", \"blue\", \"lightskyblue\",\"lightpink\",\"gray\"]\n",
    "  \n",
    "# plotting the graph\n",
    "# Graph all together (but without labels)\n",
    "graph.wedge(x, y,\n",
    "            radius = radius,\n",
    "            start_angle = start_angle,\n",
    "            color = color,\n",
    "            end_angle = end_angle)\n",
    "       \n",
    "# displaying the model\n",
    "#show(graph)"
   ],
   "outputs": [
    {
     "output_type": "execute_result",
     "data": {
      "text/html": [
       "<div style=\"display: table;\"><div style=\"display: table-row;\"><div style=\"display: table-cell;\"><b title=\"bokeh.models.renderers.GlyphRenderer\">GlyphRenderer</b>(</div><div style=\"display: table-cell;\">id&nbsp;=&nbsp;'4259', <span id=\"4262\" style=\"cursor: pointer;\">&hellip;)</span></div></div><div class=\"4261\" style=\"display: none;\"><div style=\"display: table-cell;\"></div><div style=\"display: table-cell;\">data_source&nbsp;=&nbsp;ColumnDataSource(id='4256', ...),</div></div><div class=\"4261\" style=\"display: none;\"><div style=\"display: table-cell;\"></div><div style=\"display: table-cell;\">glyph&nbsp;=&nbsp;Wedge(id='4257', ...),</div></div><div class=\"4261\" style=\"display: none;\"><div style=\"display: table-cell;\"></div><div style=\"display: table-cell;\">hover_glyph&nbsp;=&nbsp;None,</div></div><div class=\"4261\" style=\"display: none;\"><div style=\"display: table-cell;\"></div><div style=\"display: table-cell;\">js_event_callbacks&nbsp;=&nbsp;{},</div></div><div class=\"4261\" style=\"display: none;\"><div style=\"display: table-cell;\"></div><div style=\"display: table-cell;\">js_property_callbacks&nbsp;=&nbsp;{},</div></div><div class=\"4261\" style=\"display: none;\"><div style=\"display: table-cell;\"></div><div style=\"display: table-cell;\">level&nbsp;=&nbsp;'glyph',</div></div><div class=\"4261\" style=\"display: none;\"><div style=\"display: table-cell;\"></div><div style=\"display: table-cell;\">muted&nbsp;=&nbsp;False,</div></div><div class=\"4261\" style=\"display: none;\"><div style=\"display: table-cell;\"></div><div style=\"display: table-cell;\">muted_glyph&nbsp;=&nbsp;None,</div></div><div class=\"4261\" style=\"display: none;\"><div style=\"display: table-cell;\"></div><div style=\"display: table-cell;\">name&nbsp;=&nbsp;None,</div></div><div class=\"4261\" style=\"display: none;\"><div style=\"display: table-cell;\"></div><div style=\"display: table-cell;\">nonselection_glyph&nbsp;=&nbsp;Wedge(id='4258', ...),</div></div><div class=\"4261\" style=\"display: none;\"><div style=\"display: table-cell;\"></div><div style=\"display: table-cell;\">selection_glyph&nbsp;=&nbsp;None,</div></div><div class=\"4261\" style=\"display: none;\"><div style=\"display: table-cell;\"></div><div style=\"display: table-cell;\">subscribed_events&nbsp;=&nbsp;[],</div></div><div class=\"4261\" style=\"display: none;\"><div style=\"display: table-cell;\"></div><div style=\"display: table-cell;\">tags&nbsp;=&nbsp;[],</div></div><div class=\"4261\" style=\"display: none;\"><div style=\"display: table-cell;\"></div><div style=\"display: table-cell;\">view&nbsp;=&nbsp;CDSView(id='4260', ...),</div></div><div class=\"4261\" style=\"display: none;\"><div style=\"display: table-cell;\"></div><div style=\"display: table-cell;\">visible&nbsp;=&nbsp;True,</div></div><div class=\"4261\" style=\"display: none;\"><div style=\"display: table-cell;\"></div><div style=\"display: table-cell;\">x_range_name&nbsp;=&nbsp;'default',</div></div><div class=\"4261\" style=\"display: none;\"><div style=\"display: table-cell;\"></div><div style=\"display: table-cell;\">y_range_name&nbsp;=&nbsp;'default')</div></div></div>\n",
       "<script>\n",
       "(function() {\n",
       "  var expanded = false;\n",
       "  var ellipsis = document.getElementById(\"4262\");\n",
       "  ellipsis.addEventListener(\"click\", function() {\n",
       "    var rows = document.getElementsByClassName(\"4261\");\n",
       "    for (var i = 0; i < rows.length; i++) {\n",
       "      var el = rows[i];\n",
       "      el.style.display = expanded ? \"none\" : \"table-row\";\n",
       "    }\n",
       "    ellipsis.innerHTML = expanded ? \"&hellip;)\" : \"&lsaquo;&lsaquo;&lsaquo;\";\n",
       "    expanded = !expanded;\n",
       "  });\n",
       "})();\n",
       "</script>\n"
      ],
      "text/plain": [
       "GlyphRenderer(id='4259', ...)"
      ]
     },
     "metadata": {},
     "execution_count": 37
    }
   ],
   "metadata": {}
  },
  {
   "cell_type": "code",
   "execution_count": 38,
   "source": [
    "# Graph individually, with labels\n",
    "graph.wedge(x, y,\n",
    "            radius = radius[0],\n",
    "            start_angle = start_angle,\n",
    "            color = color[0],\n",
    "            end_angle = end_angle,\n",
    "            legend_label='Ice Ih')\n",
    "\n",
    "graph.wedge(x, y,\n",
    "            radius = radius[1],\n",
    "            start_angle = start_angle,\n",
    "            color = color[1],\n",
    "            end_angle = end_angle,\n",
    "            legend_label='Water')\n",
    "\n",
    "graph.wedge(x, y,\n",
    "            radius = radius[2],\n",
    "            start_angle = start_angle,\n",
    "            color = color[2],\n",
    "            end_angle = end_angle,\n",
    "            legend_label='Ice VI')\n",
    "\n",
    "graph.wedge(x, y,\n",
    "            radius = radius[3],\n",
    "            start_angle = start_angle,\n",
    "            color = color[3],\n",
    "            end_angle = end_angle,\n",
    "            legend_label='Ice VII')\n",
    "\n",
    "graph.wedge(x, y,\n",
    "            radius = radius[4],\n",
    "            start_angle = start_angle,\n",
    "            color = color[4],\n",
    "            end_angle = end_angle,\n",
    "            legend_label='Telluric Silicate/Metal Core')\n",
    "\n",
    "show(graph)"
   ],
   "outputs": [],
   "metadata": {}
  }
 ],
 "metadata": {
  "kernelspec": {
   "name": "python3",
   "display_name": "Python 3.8.3 64-bit ('base': conda)"
  },
  "language_info": {
   "codemirror_mode": {
    "name": "ipython",
    "version": 3
   },
   "file_extension": ".py",
   "mimetype": "text/x-python",
   "name": "python",
   "nbconvert_exporter": "python",
   "pygments_lexer": "ipython3",
   "version": "3.8.3"
  },
  "interpreter": {
   "hash": "4675104cf2845a2fff78ad296a1db2af118df863de7d9692bf8c18215414a44c"
  }
 },
 "nbformat": 4,
 "nbformat_minor": 4
}
